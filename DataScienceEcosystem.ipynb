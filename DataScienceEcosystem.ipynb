{
 "cells": [
  {
   "cell_type": "markdown",
   "id": "c79c19a8-b8c5-45bc-936b-ec8ba97b3034",
   "metadata": {},
   "source": [
    "# Data Science Tools and Ecosystem"
   ]
  },
  {
   "cell_type": "markdown",
   "id": "93c97dd9-c9f2-4861-ac90-d5408d9d2b79",
   "metadata": {},
   "source": [
    "In this notebook, Data Science Tools and Ecosystem are summarized."
   ]
  },
  {
   "cell_type": "markdown",
   "id": "a3d071bd-4b54-416f-a7d6-4c29aea553c5",
   "metadata": {},
   "source": [
    "Some of the popular languages that Data Scientists use are:\n",
    "\n",
    "1- Python.  \n",
    "2- R.  \n",
    "3- SQL.  \n",
    "4- Julia.  "
   ]
  },
  {
   "cell_type": "markdown",
   "id": "bd015eec-e914-49b3-a5c8-75b11892f758",
   "metadata": {},
   "source": [
    "Some of the commonly used libraries used by Data Scientists include:  \n",
    "SciPy  \n",
    "NumPy  \n",
    "Pandas  \n",
    "Matplotlib  \n",
    "Scikit-learn  \n",
    "TensorFlow"
   ]
  },
  {
   "cell_type": "markdown",
   "id": "7172b6da-b242-410b-85b1-c864a6c2b424",
   "metadata": {},
   "source": [
    "|Data Science Tools:| \n",
    "|---|\n",
    "|Jupyter Notebook|  \n",
    "|RStudio|  \n",
    "|Apache Spark|  "
   ]
  },
  {
   "cell_type": "markdown",
   "id": "5797bda8-d1b4-45db-9f85-f93760b7372a",
   "metadata": {},
   "source": [
    "### Below are a few examples of evaluating arithmetic expressions in Python\n"
   ]
  },
  {
   "cell_type": "code",
   "execution_count": 27,
   "id": "d31a66c4-8d5a-4174-81ff-48cd3838bbc9",
   "metadata": {},
   "outputs": [
    {
     "name": "stdout",
     "output_type": "stream",
     "text": [
      "17\n",
      "True\n"
     ]
    }
   ],
   "source": [
    "\n",
    "# This a simple arithmetic expression to mutiply then add integers\n",
    "eval = (3*4)+5\n",
    "print(eval)\n",
    "print(eval==17)"
   ]
  },
  {
   "cell_type": "code",
   "execution_count": 29,
   "id": "562bf4d5-923d-4abe-8df9-5abbee4d2afd",
   "metadata": {},
   "outputs": [
    {
     "name": "stdout",
     "output_type": "stream",
     "text": [
      "33.333333333333336\n"
     ]
    }
   ],
   "source": [
    "\n",
    "# This will convert 200 minutes to hours by diving by 60\n",
    "print(200 / 6)"
   ]
  },
  {
   "cell_type": "markdown",
   "id": "1d949eb4-7568-4b3c-9bd5-f134cf0e4721",
   "metadata": {},
   "source": [
    "**Objectives:**\n",
    "List popular languages for Data Science.\n",
    "- Python \n",
    "- SQL\n",
    "- R"
   ]
  },
  {
   "cell_type": "markdown",
   "id": "a567e1bc-ba60-4a00-916f-a91656c1fff0",
   "metadata": {},
   "source": [
    "## Author "
   ]
  },
  {
   "cell_type": "markdown",
   "id": "20ea3b36-6607-455e-87bd-956f4716f834",
   "metadata": {},
   "source": [
    "Mohamed Belhaj"
   ]
  },
  {
   "cell_type": "code",
   "execution_count": null,
   "id": "3c6dc62d-7879-46a9-9779-2c342f2d347c",
   "metadata": {},
   "outputs": [],
   "source": []
  }
 ],
 "metadata": {
  "kernelspec": {
   "display_name": "Python 3 (ipykernel)",
   "language": "python",
   "name": "python3"
  },
  "language_info": {
   "codemirror_mode": {
    "name": "ipython",
    "version": 3
   },
   "file_extension": ".py",
   "mimetype": "text/x-python",
   "name": "python",
   "nbconvert_exporter": "python",
   "pygments_lexer": "ipython3",
   "version": "3.12.7"
  }
 },
 "nbformat": 4,
 "nbformat_minor": 5
}
